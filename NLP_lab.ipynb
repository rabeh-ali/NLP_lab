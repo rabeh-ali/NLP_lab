{
  "nbformat": 4,
  "nbformat_minor": 0,
  "metadata": {
    "colab": {
      "provenance": [],
      "authorship_tag": "ABX9TyPMNdFZ8DJF4F9lgMFVvznd",
      "include_colab_link": true
    },
    "kernelspec": {
      "name": "python3",
      "display_name": "Python 3"
    },
    "language_info": {
      "name": "python"
    }
  },
  "cells": [
    {
      "cell_type": "markdown",
      "metadata": {
        "id": "view-in-github",
        "colab_type": "text"
      },
      "source": [
        "<a href=\"https://colab.research.google.com/github/rabeh-ali/NLP_lab/blob/main/NLP_lab.ipynb\" target=\"_parent\"><img src=\"https://colab.research.google.com/assets/colab-badge.svg\" alt=\"Open In Colab\"/></a>"
      ]
    },
    {
      "cell_type": "code",
      "execution_count": 1,
      "metadata": {
        "colab": {
          "base_uri": "https://localhost:8080/"
        },
        "id": "OjJPopNK4jIM",
        "outputId": "becf4553-1f44-4060-9206-f27e2d34c349"
      },
      "outputs": [
        {
          "output_type": "stream",
          "name": "stdout",
          "text": [
            "Requirement already satisfied: nltk in /usr/local/lib/python3.11/dist-packages (3.9.1)\n",
            "Requirement already satisfied: click in /usr/local/lib/python3.11/dist-packages (from nltk) (8.1.8)\n",
            "Requirement already satisfied: joblib in /usr/local/lib/python3.11/dist-packages (from nltk) (1.4.2)\n",
            "Requirement already satisfied: regex>=2021.8.3 in /usr/local/lib/python3.11/dist-packages (from nltk) (2024.11.6)\n",
            "Requirement already satisfied: tqdm in /usr/local/lib/python3.11/dist-packages (from nltk) (4.67.1)\n"
          ]
        }
      ],
      "source": [
        "pip install nltk"
      ]
    },
    {
      "cell_type": "code",
      "source": [
        "import nltk\n",
        "from nltk.corpus import wordnet as wn\n",
        "nltk.download('wordnet')"
      ],
      "metadata": {
        "colab": {
          "base_uri": "https://localhost:8080/"
        },
        "id": "n-AjTq7x4v3X",
        "outputId": "42c741b0-69ef-4f4e-869b-87ef373930e5"
      },
      "execution_count": null,
      "outputs": [
        {
          "output_type": "stream",
          "name": "stderr",
          "text": [
            "[nltk_data] Downloading package wordnet to /root/nltk_data...\n"
          ]
        },
        {
          "output_type": "execute_result",
          "data": {
            "text/plain": [
              "True"
            ]
          },
          "metadata": {},
          "execution_count": 2
        }
      ]
    },
    {
      "cell_type": "code",
      "source": [
        "wn.synsets('table')"
      ],
      "metadata": {
        "colab": {
          "base_uri": "https://localhost:8080/"
        },
        "id": "WTvfY42g5ChG",
        "outputId": "a49a914a-1e2b-41a4-cf75-aee616392c18"
      },
      "execution_count": null,
      "outputs": [
        {
          "output_type": "execute_result",
          "data": {
            "text/plain": [
              "[Synset('table.n.01'),\n",
              " Synset('table.n.02'),\n",
              " Synset('table.n.03'),\n",
              " Synset('mesa.n.01'),\n",
              " Synset('table.n.05'),\n",
              " Synset('board.n.04'),\n",
              " Synset('postpone.v.01'),\n",
              " Synset('table.v.02')]"
            ]
          },
          "metadata": {},
          "execution_count": 3
        }
      ]
    },
    {
      "cell_type": "code",
      "source": [
        "definition_1 = wn.synset('table.n.01').definition()\n",
        "definition_2 = wn.synset('table.n.02').definition()\n",
        "definition_3 = wn.synset('table.n.03').definition()\n",
        "definition_4 = wn.synset('table.n.05').definition()\n",
        "definition_5 = wn.synset('table.v.02').definition()\n",
        "definition_6 = wn.synset('mesa.n.01').definition()\n",
        "definition_7 = wn.synset('board.n.04').definition()\n",
        "definition_8 = wn.synset('postpone.v.01').definition()\n",
        "print(\"first definition : \" , definition_1)\n",
        "print(\"secend definition : \" , definition_2)\n",
        "print(\"third definition : \" , definition_3)\n",
        "print(\"fourth definition : \" , definition_4)\n",
        "print(\"fifth definition : \" , definition_5)\n",
        "print(\"sixth definition : \" , definition_6)\n",
        "print(\"seventh definition : \" , definition_7)\n",
        "print(\"eighth definition : \" , definition_8)"
      ],
      "metadata": {
        "colab": {
          "base_uri": "https://localhost:8080/"
        },
        "id": "DlNiaZC05ZSi",
        "outputId": "c64b9e22-6fe7-4912-c0be-bb91fdd46576"
      },
      "execution_count": null,
      "outputs": [
        {
          "output_type": "stream",
          "name": "stdout",
          "text": [
            "first definition :  a set of data arranged in rows and columns\n",
            "secend definition :  a piece of furniture having a smooth flat top that is usually supported by one or more vertical legs\n",
            "third definition :  a piece of furniture with tableware for a meal laid out on it\n",
            "fourth definition :  a company of people assembled at a table for a meal or game\n",
            "fifth definition :  arrange or enter in tabular form\n",
            "sixth definition :  flat tableland with steep edges\n",
            "seventh definition :  food or meals in general\n",
            "eighth definition :  hold back to a later time\n"
          ]
        }
      ]
    },
    {
      "cell_type": "code",
      "source": [
        "definition_1 = wn.synset('table.n.01').lemma_names()\n",
        "definition_2 = wn.synset('table.n.02').lemma_names()\n",
        "definition_3 = wn.synset('table.n.03').lemma_names()\n",
        "definition_4 = wn.synset('table.n.05').lemma_names()\n",
        "definition_5 = wn.synset('table.v.02').lemma_names()\n",
        "definition_6 = wn.synset('mesa.n.01').lemma_names()\n",
        "definition_7 = wn.synset('board.n.04').lemma_names()\n",
        "definition_8 = wn.synset('postpone.v.01').lemma_names()\n",
        "print(\"first words : \" , definition_1)\n",
        "print(\"secend words : \" , definition_2)\n",
        "print(\"third words : \" , definition_3)\n",
        "print(\"fourth words : \" , definition_4)\n",
        "print(\"fifth words : \" , definition_5)\n",
        "print(\"sixth words : \" , definition_6)\n",
        "print(\"seventh words : \" , definition_7)\n",
        "print(\"eighth words : \" , definition_8)"
      ],
      "metadata": {
        "colab": {
          "base_uri": "https://localhost:8080/"
        },
        "id": "oVqGSf1RDrkK",
        "outputId": "b7d29bcb-2769-4acb-aaed-0c51fdcb7ab4"
      },
      "execution_count": null,
      "outputs": [
        {
          "output_type": "stream",
          "name": "stdout",
          "text": [
            "first words :  ['table', 'tabular_array']\n",
            "secend words :  ['table']\n",
            "third words :  ['table']\n",
            "fourth words :  ['table']\n",
            "fifth words :  ['table', 'tabularize', 'tabularise', 'tabulate']\n",
            "sixth words :  ['mesa', 'table']\n",
            "seventh words :  ['board', 'table']\n",
            "eighth words :  ['postpone', 'prorogue', 'hold_over', 'put_over', 'table', 'shelve', 'set_back', 'defer', 'remit', 'put_off']\n"
          ]
        }
      ]
    },
    {
      "cell_type": "code",
      "source": [
        "definition_1 = wn.synset('table.n.01').hyponyms()\n",
        "definition_2 = wn.synset('table.n.02').hyponyms()\n",
        "definition_3 = wn.synset('table.n.03').hyponyms()\n",
        "definition_4 = wn.synset('table.n.05').hyponyms()\n",
        "definition_5 = wn.synset('table.v.02').hyponyms()\n",
        "definition_6 = wn.synset('mesa.n.01').hyponyms()\n",
        "definition_7 = wn.synset('board.n.04').hyponyms()\n",
        "definition_8 = wn.synset('postpone.v.01').hyponyms()\n",
        "print(\"first hyponyms : \" , definition_1)\n",
        "print(\"secend hyponyms : \" , definition_2)\n",
        "print(\"third hyponyms : \" , definition_3)\n",
        "print(\"fourth hyponyms : \" , definition_4)\n",
        "print(\"fifth hyponyms : \" , definition_5)\n",
        "print(\"sixth hyponyms : \" , definition_6)\n",
        "print(\"seventh hyponyms : \" , definition_7)\n",
        "print(\"eighth hyponyms : \" , definition_8)"
      ],
      "metadata": {
        "colab": {
          "base_uri": "https://localhost:8080/"
        },
        "id": "Q1ThwfD7GQs3",
        "outputId": "f07a266c-bfb8-4bcd-f5c1-7a64e5c9a985"
      },
      "execution_count": null,
      "outputs": [
        {
          "output_type": "stream",
          "name": "stdout",
          "text": [
            "first hyponyms :  [Synset('actuarial_table.n.01'), Synset('calendar.n.03'), Synset('contents.n.01'), Synset('correlation_table.n.01'), Synset('file_allocation_table.n.01'), Synset('periodic_table.n.01')]\n",
            "secend hyponyms :  [Synset('altar.n.01'), Synset('booth.n.01'), Synset('breakfast_table.n.01'), Synset('card_table.n.01'), Synset('card_table.n.02'), Synset('coffee_table.n.01'), Synset('conference_table.n.01'), Synset('console_table.n.01'), Synset('counter.n.01'), Synset('desk.n.01'), Synset('dressing_table.n.01'), Synset('drop-leaf_table.n.01'), Synset('gaming_table.n.01'), Synset('gueridon.n.01'), Synset('kitchen_table.n.01'), Synset('operating_table.n.01'), Synset('parsons_table.n.01'), Synset('pedestal_table.n.01'), Synset('pier_table.n.01'), Synset('platen.n.01'), Synset('pool_table.n.01'), Synset('stand.n.04'), Synset('table-tennis_table.n.01'), Synset('tea_table.n.01'), Synset('trestle_table.n.01'), Synset('worktable.n.01')]\n",
            "third hyponyms :  [Synset('dining_table.n.01')]\n",
            "fourth hyponyms :  []\n",
            "fifth hyponyms :  []\n",
            "sixth hyponyms :  []\n",
            "seventh hyponyms :  [Synset('training_table.n.01')]\n",
            "eighth hyponyms :  [Synset('call.v.11'), Synset('hold.v.26'), Synset('probate.v.01'), Synset('reprieve.v.01'), Synset('suspend.v.06')]\n"
          ]
        }
      ]
    },
    {
      "cell_type": "code",
      "source": [
        "definition_1 = wn.synset('table.n.01').hypernyms()\n",
        "definition_2 = wn.synset('table.n.02').hypernyms()\n",
        "definition_3 = wn.synset('table.n.03').hypernyms()\n",
        "definition_4 = wn.synset('table.n.05').hypernyms()\n",
        "definition_5 = wn.synset('table.v.02').hypernyms()\n",
        "definition_6 = wn.synset('mesa.n.01').hypernyms()\n",
        "definition_7 = wn.synset('board.n.04').hypernyms()\n",
        "definition_8 = wn.synset('postpone.v.01').hypernyms()\n",
        "print(\"first hypernyms : \" , definition_1)\n",
        "print(\"secend hypernyms : \" , definition_2)\n",
        "print(\"third hypernyms : \" , definition_3)\n",
        "print(\"fourth hypernyms : \" , definition_4)\n",
        "print(\"fifth hypernyms : \" , definition_5)\n",
        "print(\"sixth hypernyms : \" , definition_6)\n",
        "print(\"seventh hypernyms : \" , definition_7)\n",
        "print(\"eighth hypernyms : \" , definition_8)"
      ],
      "metadata": {
        "colab": {
          "base_uri": "https://localhost:8080/"
        },
        "id": "jMh1sNZXH7oT",
        "outputId": "4bdb9e7c-5d7e-4757-f2f6-a87215dc0a0a"
      },
      "execution_count": null,
      "outputs": [
        {
          "output_type": "stream",
          "name": "stdout",
          "text": [
            "first hypernyms :  [Synset('array.n.01')]\n",
            "secend hypernyms :  [Synset('furniture.n.01')]\n",
            "third hypernyms :  [Synset('furniture.n.01')]\n",
            "fourth hypernyms :  [Synset('gathering.n.01')]\n",
            "fifth hypernyms :  [Synset('arrange.v.06')]\n",
            "sixth hypernyms :  [Synset('tableland.n.01')]\n",
            "seventh hypernyms :  [Synset('fare.n.04')]\n",
            "eighth hypernyms :  [Synset('delay.v.02')]\n"
          ]
        }
      ]
    },
    {
      "cell_type": "code",
      "source": [
        "wn.synset('furniture.n.01').definition()"
      ],
      "metadata": {
        "colab": {
          "base_uri": "https://localhost:8080/",
          "height": 36
        },
        "id": "SyuCa4IbIh6I",
        "outputId": "dd9f568c-592e-4a69-b4bc-aaf02804eb86"
      },
      "execution_count": null,
      "outputs": [
        {
          "output_type": "execute_result",
          "data": {
            "text/plain": [
              "'furnishings that make a room or other area ready for occupancy'"
            ],
            "application/vnd.google.colaboratory.intrinsic+json": {
              "type": "string"
            }
          },
          "metadata": {},
          "execution_count": 13
        }
      ]
    },
    {
      "cell_type": "code",
      "source": [
        "definition_1 = wn.synset('table.n.01').part_holonyms()\n",
        "definition_2 = wn.synset('table.n.02').part_holonyms()\n",
        "definition_3 = wn.synset('table.n.03').part_holonyms()\n",
        "definition_4 = wn.synset('table.n.05').part_holonyms()\n",
        "definition_5 = wn.synset('table.v.02').part_holonyms()\n",
        "definition_6 = wn.synset('mesa.n.01').part_holonyms()\n",
        "definition_7 = wn.synset('board.n.04').part_holonyms()\n",
        "definition_8 = wn.synset('postpone.v.01').part_holonyms()\n",
        "print(\"first holonyms : \" , definition_1)\n",
        "print(\"secend holonyms : \" , definition_2)\n",
        "print(\"third holonyms : \" , definition_3)\n",
        "print(\"fourth holonyms : \" , definition_4)\n",
        "print(\"fifth holonyms : \" , definition_5)\n",
        "print(\"sixth holonyms : \" , definition_6)\n",
        "print(\"seventh holonyms : \" , definition_7)\n",
        "print(\"eighth holonyms : \" , definition_8)"
      ],
      "metadata": {
        "colab": {
          "base_uri": "https://localhost:8080/"
        },
        "id": "MHByF3VXJQ0y",
        "outputId": "b659897c-9738-4f65-9c4b-0a9a33292b17"
      },
      "execution_count": null,
      "outputs": [
        {
          "output_type": "stream",
          "name": "stdout",
          "text": [
            "first holonyms :  []\n",
            "secend holonyms :  []\n",
            "third holonyms :  []\n",
            "fourth holonyms :  []\n",
            "fifth holonyms :  []\n",
            "sixth holonyms :  []\n",
            "seventh holonyms :  []\n",
            "eighth holonyms :  []\n"
          ]
        }
      ]
    },
    {
      "cell_type": "code",
      "source": [
        "definition_1 = wn.synset('table.n.01').part_meronyms()\n",
        "definition_2 = wn.synset('table.n.02').part_meronyms()\n",
        "definition_3 = wn.synset('table.n.03').part_meronyms()\n",
        "definition_4 = wn.synset('table.n.05').part_meronyms()\n",
        "definition_5 = wn.synset('table.v.02').part_meronyms()\n",
        "definition_6 = wn.synset('mesa.n.01').part_meronyms()\n",
        "definition_7 = wn.synset('board.n.04').part_meronyms()\n",
        "definition_8 = wn.synset('postpone.v.01').part_meronyms()\n",
        "print(\"first meronyms : \" , definition_1)\n",
        "print(\"secend meronyms : \" , definition_2)\n",
        "print(\"third meronyms : \" , definition_3)\n",
        "print(\"fourth meronyms : \" , definition_4)\n",
        "print(\"fifth meronyms : \" , definition_5)\n",
        "print(\"sixth meronyms : \" , definition_6)\n",
        "print(\"seventh meronyms : \" , definition_7)\n",
        "print(\"eighth meronyms : \" , definition_8)"
      ],
      "metadata": {
        "colab": {
          "base_uri": "https://localhost:8080/"
        },
        "id": "GcgxZZJfKQ-r",
        "outputId": "e6447b9b-7c60-41cc-ffd8-342051002ce6"
      },
      "execution_count": null,
      "outputs": [
        {
          "output_type": "stream",
          "name": "stdout",
          "text": [
            "first meronyms :  []\n",
            "secend meronyms :  [Synset('leg.n.03'), Synset('tabletop.n.01'), Synset('tableware.n.01')]\n",
            "third meronyms :  []\n",
            "fourth meronyms :  []\n",
            "fifth meronyms :  []\n",
            "sixth meronyms :  []\n",
            "seventh meronyms :  []\n",
            "eighth meronyms :  []\n"
          ]
        }
      ]
    },
    {
      "cell_type": "code",
      "source": [
        "wn.synset('leg.n.03').lemma_names()"
      ],
      "metadata": {
        "colab": {
          "base_uri": "https://localhost:8080/"
        },
        "id": "bzcYjH5jK1sW",
        "outputId": "16017506-2975-419f-8241-5d8c70144340"
      },
      "execution_count": null,
      "outputs": [
        {
          "output_type": "execute_result",
          "data": {
            "text/plain": [
              "['leg']"
            ]
          },
          "metadata": {},
          "execution_count": 20
        }
      ]
    },
    {
      "cell_type": "code",
      "source": [
        "definition_1 = wn.synset('table.n.01').entailments()\n",
        "definition_2 = wn.synset('table.n.02').entailments()\n",
        "definition_3 = wn.synset('table.n.03').entailments()\n",
        "definition_4 = wn.synset('table.n.05').entailments()\n",
        "definition_5 = wn.synset('table.v.02').entailments()\n",
        "definition_6 = wn.synset('mesa.n.01').entailments()\n",
        "definition_7 = wn.synset('board.n.04').entailments()\n",
        "definition_8 = wn.synset('postpone.v.01').entailments()\n",
        "print(\"first entailments : \" , definition_1)\n",
        "print(\"secend entailments : \" , definition_2)\n",
        "print(\"third entailments : \" , definition_3)\n",
        "print(\"fourth entailments : \" , definition_4)\n",
        "print(\"fifth entailments : \" , definition_5)\n",
        "print(\"sixth entailments : \" , definition_6)\n",
        "print(\"seventh entailments : \" , definition_7)\n",
        "print(\"eighth entailments : \" , definition_8)"
      ],
      "metadata": {
        "colab": {
          "base_uri": "https://localhost:8080/"
        },
        "id": "PukaNHp-LLWP",
        "outputId": "df264b0a-9f31-45a7-e58c-5eebd7646f6f"
      },
      "execution_count": null,
      "outputs": [
        {
          "output_type": "stream",
          "name": "stdout",
          "text": [
            "first entailments :  []\n",
            "secend entailments :  []\n",
            "third entailments :  []\n",
            "fourth entailments :  []\n",
            "fifth entailments :  []\n",
            "sixth entailments :  []\n",
            "seventh entailments :  []\n",
            "eighth entailments :  [Synset('cancel.v.01'), Synset('reschedule.v.01')]\n"
          ]
        }
      ]
    }
  ]
}